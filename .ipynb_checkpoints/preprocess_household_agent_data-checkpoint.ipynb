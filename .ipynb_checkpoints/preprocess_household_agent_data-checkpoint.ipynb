{
 "cells": [
  {
   "cell_type": "code",
   "execution_count": null,
   "metadata": {},
   "outputs": [],
   "source": [
    "%%time\n",
    "import pandas as pd\n",
    "from file_paths_and_consts import *\n",
    "\n",
    "SHAPEFILE_LOC = 'ukr_shp/ukr_admbnda_adm2_sspe_20230201.shp'\n",
    "ID_COLUMN = 'ADM2_EN'\n",
    "HOUSEHOLD_LOC = 'ukr_household.csv'\n",
    "PERSON_LOC = 'ukr_person.csv'\n",
    "HOUSEHOLD_PERSON_MATCHING = 'ukr_residence_location_assignment.csv'\n",
    "HH_FILE_PREFIX = 'ukraine_household_data_ADM2_HDX.csv'\n",
    "\n"
   ]
  },
  {
   "cell_type": "code",
   "execution_count": null,
   "metadata": {},
   "outputs": [],
   "source": [
    "%%time\n",
    "import geopandas as gpd\n",
    "import warnings\n",
    "warnings.filterwarnings('ignore')\n",
    "\n",
    "shape_gdf = gpd.read_file(SHAPEFILE_LOC)\n",
    "shape_gdf = shape_gdf.rename(columns={ID_COLUMN:'ADM2_EN'})\n",
    "\n",
    "shape_gdf_trimmed = shape_gdf[['ADM2_EN','geometry']]"
   ]
  },
  {
   "cell_type": "code",
   "execution_count": null,
   "metadata": {},
   "outputs": [],
   "source": [
    "%%time\n",
    "\n",
    "def demographic_type(age,sex): ##this function may be played with\n",
    "    if(age>old_age):\n",
    "        return 0\n",
    "    if(age<child_age):\n",
    "        return 1\n",
    "    if(sex==1):\n",
    "        return 2\n",
    "    return 3\n",
    "\n",
    "hh_df = pd.read_csv(UNCLEANED_DATA_DIR+HOUSEHOLD_LOC)\n",
    "person_df = pd.read_csv(UNCLEANED_DATA_DIR+PERSON_LOC)\n",
    "ukr_house_loc = pd.read_csv(UNCLEANED_DATA_DIR+HOUSEHOLD_PERSON_MATCHING)\n",
    "\n",
    "ukr_house_loc_gdf = gpd.GeoDataFrame(ukr_house_loc[['hid','rlid','latitude','longitude','admin1','admin2']], geometry=gpd.points_from_xy(ukr_house_loc.longitude, ukr_house_loc.latitude))\n",
    "hh_matched_admin2_raion = gpd.sjoin(ukr_house_loc_gdf,shape_gdf,op='within')\n",
    "\n",
    "print(hh_df.shape,person_df.shape)\n",
    "\n",
    "hh_df = hh_df.dropna(thresh = hh_df.shape[0]/2, axis = 1)\n",
    "person_df = person_df.dropna(thresh = person_df.shape[0]/2, axis = 1)\n",
    "\n",
    "print(hh_df.shape,person_df.shape)\n",
    "print(hh_matched_admin2_raion.shape)\n"
   ]
  },
  {
   "cell_type": "code",
   "execution_count": null,
   "metadata": {},
   "outputs": [],
   "source": [
    "%%time\n",
    "old_age = 60\n",
    "child_age = 18\n",
    "\n",
    "person_df['type'] = person_df.apply(lambda x: demographic_type(x['age'],x['sex']),axis=1)\n",
    "\n",
    "for i in range(0,len(DEMO_TYPES)):\n",
    "    person_df[DEMO_TYPES[i]] = person_df['type'].apply(lambda x: 1 if x == i else 0)\n",
    "print('for loop done')\n",
    "## COUNT FOR EACH HOUSE EACH DEMO TYPE\n",
    "hid_with_demo_count_df = person_df.groupby('hid')[DEMO_TYPES].sum().reset_index()\n",
    "\n",
    "hh_with_actual_raion_matching = hid_with_demo_count_df[hid_with_demo_count_df.hid.isin(hh_matched_admin2_raion.hid.tolist())]\n",
    "hh_with_actual_raion_matching = hh_with_actual_raion_matching.sort_values(by='hid')\n",
    "hh_matched_admin2_raion = hh_matched_admin2_raion.sort_values(by='hid')\n",
    "hh_with_actual_raion_matching_final = hh_with_actual_raion_matching.merge(hh_matched_admin2_raion,on='hid',how='inner')\n",
    "print('merge done')\n",
    "hh_with_actual_raion_matching_final['matching_place_id'] = hh_with_actual_raion_matching_final['ADM2_EN']\n",
    "hh_with_actual_raion_matching_final.to_csv(HOUSEHOLD_DIR+HH_FILE_PREFIX,index=False)"
   ]
  }
 ],
 "metadata": {
  "kernelspec": {
   "display_name": "Python [conda env:.conda-biocomplexity]",
   "language": "python",
   "name": "conda-env-.conda-biocomplexity-py"
  },
  "language_info": {
   "codemirror_mode": {
    "name": "ipython",
    "version": 3
   },
   "file_extension": ".py",
   "mimetype": "text/x-python",
   "name": "python",
   "nbconvert_exporter": "python",
   "pygments_lexer": "ipython3",
   "version": "3.7.7"
  }
 },
 "nbformat": 4,
 "nbformat_minor": 4
}
